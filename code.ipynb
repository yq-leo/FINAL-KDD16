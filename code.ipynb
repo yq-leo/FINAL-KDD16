{
 "cells": [
  {
   "cell_type": "code",
   "execution_count": 40,
   "id": "dad1ced0-bdb0-49f9-9f1d-6187ef34ea65",
   "metadata": {},
   "outputs": [],
   "source": [
    "import numpy as np\n",
    "import scipy.io as sio\n",
    "from scipy.sparse import csc_matrix"
   ]
  },
  {
   "cell_type": "code",
   "execution_count": 135,
   "id": "fc9b3945-2ddc-44b5-a213-9fb75595a093",
   "metadata": {},
   "outputs": [
    {
     "data": {
      "text/plain": [
       "{'__header__': b'MATLAB 5.0 MAT-file, Platform: PCWIN64, Created on: Tue Apr  6 10:00:19 2021',\n",
       " '__version__': '1.0',\n",
       " '__globals__': [],\n",
       " 'ACM': <9872x9872 sparse matrix of type '<class 'numpy.float64'>'\n",
       " \twith 79122 stored elements in Compressed Sparse Column format>,\n",
       " 'ACM_node_feat': array([[61, 42, 16, ..., 14,  1, 22],\n",
       "        [54, 18, 12, ..., 11,  0, 16],\n",
       "        [54, 61,  9, ..., 10,  0, 39],\n",
       "        ...,\n",
       "        [ 0,  0,  0, ...,  0,  0,  0],\n",
       "        [ 0,  0,  0, ...,  1,  0,  0],\n",
       "        [ 0,  0,  0, ...,  0,  0,  1]], dtype=uint8),\n",
       " 'DBLP': <9916x9916 sparse matrix of type '<class 'numpy.float64'>'\n",
       " \twith 89616 stored elements in Compressed Sparse Column format>,\n",
       " 'DBLP_node_feat': array([[0, 0, 0, ..., 0, 0, 0],\n",
       "        [0, 0, 0, ..., 0, 0, 0],\n",
       "        [0, 0, 0, ..., 0, 0, 0],\n",
       "        ...,\n",
       "        [0, 0, 0, ..., 0, 4, 1],\n",
       "        [0, 0, 0, ..., 0, 0, 0],\n",
       "        [0, 0, 0, ..., 1, 0, 0]], dtype=uint8),\n",
       " 'H': array([[0, 0, 0, ..., 0, 0, 0],\n",
       "        [0, 0, 0, ..., 0, 0, 0],\n",
       "        [0, 0, 0, ..., 0, 0, 0],\n",
       "        ...,\n",
       "        [0, 0, 0, ..., 0, 0, 0],\n",
       "        [0, 0, 0, ..., 0, 0, 0],\n",
       "        [0, 0, 0, ..., 0, 0, 0]], dtype=uint8),\n",
       " 'alpha': array([[0.5]]),\n",
       " 'gnd': array([[8909, 7386],\n",
       "        [1583, 6797],\n",
       "        [1652, 8309],\n",
       "        ...,\n",
       "        [9842, 3393],\n",
       "        [9851,  307],\n",
       "        [9869, 9012]], dtype=uint16),\n",
       " 'maxiter': array([[30]], dtype=uint8),\n",
       " 'n1': array([[9872]], dtype=uint16),\n",
       " 'n2': array([[9916]], dtype=uint16),\n",
       " 'tol': array([[0.0001]])}"
      ]
     },
     "execution_count": 135,
     "metadata": {},
     "output_type": "execute_result"
    }
   ],
   "source": [
    "data_ft = sio.loadmat(\"ACM-DBLP.mat\")\n",
    "data_ft"
   ]
  },
  {
   "cell_type": "code",
   "execution_count": 73,
   "id": "4a0c7522-f17e-40e9-92c0-e114a9874f6c",
   "metadata": {},
   "outputs": [
    {
     "data": {
      "text/plain": [
       "1609"
      ]
     },
     "execution_count": 73,
     "metadata": {},
     "output_type": "execute_result"
    }
   ],
   "source": [
    "data_ft['gnd'].max()"
   ]
  },
  {
   "cell_type": "code",
   "execution_count": 23,
   "id": "c0d42673-49c2-4740-b280-038b26f4aa22",
   "metadata": {},
   "outputs": [
    {
     "data": {
      "text/plain": [
       "array([[0.5]])"
      ]
     },
     "execution_count": 23,
     "metadata": {},
     "output_type": "execute_result"
    }
   ],
   "source": [
    "data_ft['alpha']"
   ]
  },
  {
   "cell_type": "code",
   "execution_count": 15,
   "id": "87c80ca9-ea01-456c-9946-d65fde6e48a4",
   "metadata": {},
   "outputs": [
    {
     "data": {
      "text/plain": [
       "(5120, 5313)"
      ]
     },
     "execution_count": 15,
     "metadata": {},
     "output_type": "execute_result"
    }
   ],
   "source": [
    "data_ft['H'].shape"
   ]
  },
  {
   "cell_type": "code",
   "execution_count": 16,
   "id": "223b907e-a863-41c4-b048-9ccbffe999f4",
   "metadata": {},
   "outputs": [
    {
     "data": {
      "text/plain": [
       "(array([[5313]], dtype=uint16), array([[5120]], dtype=uint16))"
      ]
     },
     "execution_count": 16,
     "metadata": {},
     "output_type": "execute_result"
    }
   ],
   "source": [
    "data_ft['n1'], data_ft['n2']"
   ]
  },
  {
   "cell_type": "code",
   "execution_count": 19,
   "id": "78a5e3cd-6bca-462e-bfb5-f5dc3c5da7d1",
   "metadata": {},
   "outputs": [
    {
     "data": {
      "text/plain": [
       "<5313x5313 sparse matrix of type '<class 'numpy.float64'>'\n",
       "\twith 108466 stored elements in Compressed Sparse Column format>"
      ]
     },
     "execution_count": 19,
     "metadata": {},
     "output_type": "execute_result"
    }
   ],
   "source": [
    "data_ft['foursquare']"
   ]
  },
  {
   "cell_type": "code",
   "execution_count": 134,
   "id": "1cd01212-e5be-46de-bde5-b18c4b65d073",
   "metadata": {},
   "outputs": [
    {
     "data": {
      "text/plain": [
       "{'__header__': b'MATLAB 5.0 MAT-file, Platform: MACI64, Created on: Thu Jan 20 20:44:20 2022',\n",
       " '__version__': '1.0',\n",
       " '__globals__': [],\n",
       " 'H': array([[0, 0, 0, ..., 0, 0, 0],\n",
       "        [0, 0, 0, ..., 0, 0, 0],\n",
       "        [0, 0, 0, ..., 0, 0, 0],\n",
       "        ...,\n",
       "        [0, 0, 0, ..., 0, 0, 0],\n",
       "        [0, 0, 0, ..., 0, 0, 0],\n",
       "        [0, 0, 0, ..., 0, 0, 0]], dtype=uint8),\n",
       " 'cora1': array([[0, 0, 0, ..., 0, 0, 0],\n",
       "        [0, 0, 1, ..., 0, 0, 0],\n",
       "        [0, 1, 0, ..., 0, 0, 0],\n",
       "        ...,\n",
       "        [0, 0, 0, ..., 0, 0, 0],\n",
       "        [0, 0, 0, ..., 0, 0, 1],\n",
       "        [0, 0, 0, ..., 0, 1, 0]], dtype=uint8),\n",
       " 'cora1_node_feat': array([[0, 0, 0, ..., 0, 0, 0],\n",
       "        [0, 0, 0, ..., 0, 0, 0],\n",
       "        [0, 0, 0, ..., 0, 0, 0],\n",
       "        ...,\n",
       "        [0, 0, 0, ..., 0, 0, 0],\n",
       "        [0, 0, 0, ..., 0, 0, 0],\n",
       "        [0, 0, 0, ..., 0, 0, 0]], dtype=uint8),\n",
       " 'cora2': array([[0, 0, 0, ..., 0, 0, 0],\n",
       "        [0, 0, 0, ..., 0, 0, 0],\n",
       "        [0, 0, 0, ..., 0, 0, 0],\n",
       "        ...,\n",
       "        [0, 0, 0, ..., 0, 0, 0],\n",
       "        [0, 0, 0, ..., 0, 0, 0],\n",
       "        [0, 0, 0, ..., 0, 0, 0]], dtype=uint8),\n",
       " 'cora2_node_feat': array([[0, 0, 0, ..., 0, 0, 0],\n",
       "        [0, 0, 0, ..., 0, 0, 0],\n",
       "        [0, 0, 0, ..., 0, 0, 0],\n",
       "        ...,\n",
       "        [0, 0, 1, ..., 0, 0, 0],\n",
       "        [0, 0, 0, ..., 0, 0, 0],\n",
       "        [0, 0, 0, ..., 0, 0, 0]], dtype=uint8),\n",
       " 'gnd': array([[2463,  878],\n",
       "        [ 398,  843],\n",
       "        [ 901, 2295],\n",
       "        ...,\n",
       "        [1161, 1344],\n",
       "        [1175, 2401],\n",
       "        [1902, 1234]], dtype=uint16)}"
      ]
     },
     "execution_count": 134,
     "metadata": {},
     "output_type": "execute_result"
    }
   ],
   "source": [
    "data_pe = sio.loadmat(\"cora_org.mat\")\n",
    "data_pe"
   ]
  },
  {
   "cell_type": "code",
   "execution_count": 136,
   "id": "123f2a21-5e3f-4740-a3dc-ccf92eab354b",
   "metadata": {},
   "outputs": [
    {
     "data": {
      "text/plain": [
       "{'cora1': <2708x2708 sparse matrix of type '<class 'numpy.float64'>'\n",
       " \twith 12668 stored elements in Compressed Sparse Column format>,\n",
       " 'cora2': <2708x2708 sparse matrix of type '<class 'numpy.float64'>'\n",
       " \twith 9084 stored elements in Compressed Sparse Column format>,\n",
       " 'cora1_node_feat': array([[0., 0., 0., ..., 0., 0., 0.],\n",
       "        [0., 0., 0., ..., 0., 0., 0.],\n",
       "        [0., 0., 0., ..., 0., 0., 0.],\n",
       "        ...,\n",
       "        [0., 0., 0., ..., 0., 0., 0.],\n",
       "        [0., 0., 0., ..., 0., 0., 0.],\n",
       "        [0., 0., 0., ..., 0., 0., 0.]]),\n",
       " 'cora2_node_feat': array([[0., 0., 0., ..., 0., 0., 0.],\n",
       "        [0., 0., 0., ..., 0., 0., 0.],\n",
       "        [0., 0., 0., ..., 0., 0., 0.],\n",
       "        ...,\n",
       "        [0., 0., 1., ..., 0., 0., 0.],\n",
       "        [0., 0., 0., ..., 0., 0., 0.],\n",
       "        [0., 0., 0., ..., 0., 0., 0.]]),\n",
       " 'H': array([[0., 0., 0., ..., 0., 0., 0.],\n",
       "        [0., 0., 0., ..., 0., 0., 0.],\n",
       "        [0., 0., 0., ..., 0., 0., 0.],\n",
       "        ...,\n",
       "        [0., 0., 0., ..., 0., 0., 0.],\n",
       "        [0., 0., 0., ..., 0., 0., 0.],\n",
       "        [0., 0., 0., ..., 0., 0., 0.]]),\n",
       " 'gnd': array([[2463.,  878.],\n",
       "        [ 398.,  843.],\n",
       "        [ 901., 2295.],\n",
       "        ...,\n",
       "        [1161., 1344.],\n",
       "        [1175., 2401.],\n",
       "        [1902., 1234.]]),\n",
       " 'n1': array([[2708.]]),\n",
       " 'n2': array([[2708.]]),\n",
       " 'maxiter': array([[30.]]),\n",
       " 'tol': array([[0.0001]])}"
      ]
     },
     "execution_count": 136,
     "metadata": {},
     "output_type": "execute_result"
    }
   ],
   "source": [
    "data_pe_new = dict()\n",
    "data_pe_new['cora1'] = csc_matrix(data_pe['cora1'].astype(np.float64))\n",
    "data_pe_new['cora2'] = csc_matrix(data_pe['cora2'].astype(np.float64))\n",
    "data_pe_new['cora1_node_feat'] = data_pe['cora1_node_feat'].astype(np.float64)\n",
    "data_pe_new['cora2_node_feat'] = data_pe['cora2_node_feat'].astype(np.float64)\n",
    "data_pe_new['H'] = data_pe['H'].astype(np.float64)\n",
    "data_pe_new['gnd'] = data_pe['gnd'].astype(np.float64)\n",
    "data_pe_new['n1'] = np.array([[data_pe['cora1'].shape[0]]], dtype=np.float64)\n",
    "data_pe_new['n2'] = np.array([[data_pe['cora2'].shape[0]]], dtype=np.float64)\n",
    "\n",
    "data_pe_new['maxiter'] = np.array([[30]], dtype=np.float64)\n",
    "data_pe_new['tol'] = np.array([[1e-4]], dtype=np.float64)\n",
    "data_pe_new"
   ]
  },
  {
   "cell_type": "code",
   "execution_count": 137,
   "id": "b96e94f0-3dc7-4f6f-97d6-78cbd13e7ff3",
   "metadata": {},
   "outputs": [],
   "source": [
    "sio.savemat(\"cora.mat\", data_pe_new)"
   ]
  },
  {
   "cell_type": "code",
   "execution_count": 61,
   "id": "095e18d5-1692-484f-bd5c-5c22c8713d28",
   "metadata": {},
   "outputs": [],
   "source": [
    "def get_hits(s, gnd, H, topK):\n",
    "    \"\"\"\n",
    "    Calculate Hits@K and MRR\n",
    "    :param s: alignment score\n",
    "    :param gnd: ground truth alignment matrix\n",
    "    :param H: anchor links, shape=(n2, n1)\n",
    "    :param topK: top-K list\n",
    "    :return:\n",
    "        train_p: Hits@K for training pairs\n",
    "        train_mrr: Mean Reciprocal Rank for training pairs\n",
    "        test_p: Hits@K for test pairs\n",
    "        test_mrr: Mean Reciprocal Rank for test pairs\n",
    "    \"\"\"\n",
    "\n",
    "    sortI = torch.argsort(-s, dim=1)\n",
    "\n",
    "    anchors1, anchors2 = torch.where(H.T == 1)\n",
    "    anchors = torch.vstack((anchors1, anchors2)).T\n",
    "    tests = setdiff(gnd, anchors)\n",
    "\n",
    "    num_train, num_test = anchors.shape[0], tests.shape[0]\n",
    "\n",
    "    train_ind = []\n",
    "    train_mrr = 0.0\n",
    "    for i in range(num_train):\n",
    "        tempInd = torch.where(sortI[anchors[i, 0]] == anchors[i, 1])[0][0]\n",
    "        train_ind.append(tempInd)\n",
    "        train_mrr += 1 / (tempInd + 1)\n",
    "\n",
    "    train_mrr = train_mrr / num_train\n",
    "\n",
    "    train_p = []\n",
    "    for i in range(len(topK)):\n",
    "        train_p.append(torch.sum(torch.tensor(train_ind) < topK[i]))\n",
    "    train_p = torch.tensor(train_p).to(torch.float64) / num_train\n",
    "\n",
    "    test_ind = []\n",
    "    test_mrr = 0.0\n",
    "    for i in range(num_test):\n",
    "        tempInd = torch.where(sortI[tests[i, 0]] == tests[i, 1])[0][0]\n",
    "        test_ind.append(tempInd)\n",
    "        test_mrr += 1 / (tempInd + 1)\n",
    "\n",
    "    test_mrr = test_mrr / num_test\n",
    "\n",
    "    test_p = []\n",
    "    for i in range(len(topK)):\n",
    "        test_p.append(torch.sum(torch.tensor(test_ind) < topK[i]))\n",
    "    test_p = torch.tensor(test_p).to(torch.float64) / num_test\n",
    "\n",
    "    return train_p, train_mrr, test_p, test_mrr\n",
    "\n",
    "def setdiff(a, b):\n",
    "    \"\"\"\n",
    "    Find the difference of two tensors.\n",
    "    :param a: tensor 1 (n1 x 2)\n",
    "    :param b: tensor 2 (n2 x 2)\n",
    "    :return: c: difference of a and b (n3 x 2)\n",
    "    \"\"\"\n",
    "    # Use a structured array to perform row-wise set difference\n",
    "    a_view = a.view(-1, 1, 2)  # Convert a(tensor) to (n1, 1, 2)\n",
    "    b_view = b.view(1, -1, 2)  # Convert b(tensor) to (1, n2, 2)\n",
    "\n",
    "    # Compare each element of a with each element of b\n",
    "    mask = torch.all(a_view != b_view, dim=2).all(dim=1)\n",
    "\n",
    "    # Select elements in a that are not in b\n",
    "    c = a[mask]\n",
    "\n",
    "    return c"
   ]
  },
  {
   "cell_type": "code",
   "execution_count": 130,
   "id": "05321b5f-282a-4667-a88f-cf23248179c6",
   "metadata": {},
   "outputs": [],
   "source": [
    "import torch\n",
    "\n",
    "def test_hit(dataset, use_attr=False):\n",
    "    data = sio.loadmat(f\"{dataset}.mat\")\n",
    "    if dataset == 'ACM-DBLP' and use_attr:\n",
    "        s = sio.loadmat(f'results/{dataset}-A_S.mat')['S'].T.astype(np.float64)\n",
    "    else:\n",
    "        s = sio.loadmat(f'results/{dataset}_S.mat')['S'].T.astype(np.float64)\n",
    "    s = torch.tensor(s).to(torch.float64)\n",
    "    gnd = torch.tensor(data['gnd']).to(torch.int64) - 1\n",
    "    H = torch.tensor(data['H']).to(torch.int64)\n",
    "    train_p, train_mrr, test_p, test_mrr = get_hits(s, gnd, H, topK=[1, 10, 30, 50, 100])\n",
    "    return test_p, test_mrr"
   ]
  },
  {
   "cell_type": "code",
   "execution_count": 123,
   "id": "ee000e6a-4292-4f76-b7a8-a26874d13e8a",
   "metadata": {},
   "outputs": [
    {
     "name": "stdout",
     "output_type": "stream",
     "text": [
      "tensor([0.0312, 0.2125, 0.4637, 0.6225, 0.8438], dtype=torch.float64)\n",
      "tensor(0.0988)\n"
     ]
    }
   ],
   "source": [
    "hits, mrr = test_hit(\"phone-email\")\n",
    "print(hits)\n",
    "print(mrr)"
   ]
  },
  {
   "cell_type": "code",
   "execution_count": 125,
   "id": "075f4066-e1c0-4fd8-939d-6a51722f1a93",
   "metadata": {},
   "outputs": [
    {
     "name": "stdout",
     "output_type": "stream",
     "text": [
      "tensor([0.0404, 0.2362, 0.3590, 0.4071, 0.4553], dtype=torch.float64)\n",
      "tensor(0.1001)\n"
     ]
    }
   ],
   "source": [
    "hits, mrr = test_hit(\"foursquare-twitter\")\n",
    "print(hits)\n",
    "print(mrr)"
   ]
  },
  {
   "cell_type": "code",
   "execution_count": 127,
   "id": "4d4126f8-6d4e-462d-a4d6-3c28e0be233d",
   "metadata": {},
   "outputs": [
    {
     "name": "stdout",
     "output_type": "stream",
     "text": [
      "tensor([0.1957, 0.6917, 0.8318, 0.8866, 0.9283], dtype=torch.float64)\n",
      "tensor(0.3542)\n"
     ]
    }
   ],
   "source": [
    "hits, mrr = test_hit(\"ACM-DBLP\")\n",
    "print(hits)\n",
    "print(mrr)"
   ]
  },
  {
   "cell_type": "code",
   "execution_count": 133,
   "id": "33fe7aec-c00f-4c14-ae4c-97399114c3b0",
   "metadata": {},
   "outputs": [
    {
     "name": "stdout",
     "output_type": "stream",
     "text": [
      "tensor([0.3978, 0.8328, 0.9249, 0.9474, 0.9579], dtype=torch.float64)\n",
      "tensor(0.5418)\n"
     ]
    }
   ],
   "source": [
    "hits, mrr = test_hit(\"ACM-DBLP\", use_attr=True)\n",
    "print(hits)\n",
    "print(mrr)"
   ]
  },
  {
   "cell_type": "code",
   "execution_count": 139,
   "id": "0f23e5c1-ebfc-4f88-9b90-fe6c88416f27",
   "metadata": {},
   "outputs": [
    {
     "name": "stdout",
     "output_type": "stream",
     "text": [
      "tensor([0.7102, 0.8814, 0.9072, 0.9100, 0.9114], dtype=torch.float64)\n",
      "tensor(0.7734)\n"
     ]
    }
   ],
   "source": [
    "hits, mrr = test_hit(\"cora\")\n",
    "print(hits)\n",
    "print(mrr)"
   ]
  }
 ],
 "metadata": {
  "kernelspec": {
   "display_name": "Python 3 (ipykernel)",
   "language": "python",
   "name": "python3"
  },
  "language_info": {
   "codemirror_mode": {
    "name": "ipython",
    "version": 3
   },
   "file_extension": ".py",
   "mimetype": "text/x-python",
   "name": "python",
   "nbconvert_exporter": "python",
   "pygments_lexer": "ipython3",
   "version": "3.9.6"
  }
 },
 "nbformat": 4,
 "nbformat_minor": 5
}
